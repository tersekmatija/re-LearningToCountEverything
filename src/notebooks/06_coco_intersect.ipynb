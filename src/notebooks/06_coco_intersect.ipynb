{
 "cells": [
  {
   "cell_type": "code",
   "execution_count": 1,
   "id": "a9466da4-5546-46f5-9efb-b194c65e764d",
   "metadata": {},
   "outputs": [],
   "source": [
    "import pandas as pd\n",
    "import numpy as np\n",
    "import json"
   ]
  },
  {
   "cell_type": "code",
   "execution_count": 2,
   "id": "a8b44e93-789c-4486-9135-381893cdc945",
   "metadata": {},
   "outputs": [
    {
     "data": {
      "text/html": [
       "<div>\n",
       "<style scoped>\n",
       "    .dataframe tbody tr th:only-of-type {\n",
       "        vertical-align: middle;\n",
       "    }\n",
       "\n",
       "    .dataframe tbody tr th {\n",
       "        vertical-align: top;\n",
       "    }\n",
       "\n",
       "    .dataframe thead th {\n",
       "        text-align: right;\n",
       "    }\n",
       "</style>\n",
       "<table border=\"1\" class=\"dataframe\">\n",
       "  <thead>\n",
       "    <tr style=\"text-align: right;\">\n",
       "      <th></th>\n",
       "      <th>Image</th>\n",
       "      <th>Label</th>\n",
       "    </tr>\n",
       "  </thead>\n",
       "  <tbody>\n",
       "    <tr>\n",
       "      <th>0</th>\n",
       "      <td>2.jpg</td>\n",
       "      <td>sea shells</td>\n",
       "    </tr>\n",
       "    <tr>\n",
       "      <th>1</th>\n",
       "      <td>3.jpg</td>\n",
       "      <td>hot air balloons</td>\n",
       "    </tr>\n",
       "    <tr>\n",
       "      <th>2</th>\n",
       "      <td>4.jpg</td>\n",
       "      <td>hot air balloons</td>\n",
       "    </tr>\n",
       "    <tr>\n",
       "      <th>3</th>\n",
       "      <td>5.jpg</td>\n",
       "      <td>hot air balloons</td>\n",
       "    </tr>\n",
       "    <tr>\n",
       "      <th>4</th>\n",
       "      <td>6.jpg</td>\n",
       "      <td>hot air balloons</td>\n",
       "    </tr>\n",
       "  </tbody>\n",
       "</table>\n",
       "</div>"
      ],
      "text/plain": [
       "   Image             Label\n",
       "0  2.jpg        sea shells\n",
       "1  3.jpg  hot air balloons\n",
       "2  4.jpg  hot air balloons\n",
       "3  5.jpg  hot air balloons\n",
       "4  6.jpg  hot air balloons"
      ]
     },
     "execution_count": 2,
     "metadata": {},
     "output_type": "execute_result"
    }
   ],
   "source": [
    "fsc147 = pd.read_csv(\"../data/ImageClasses_FSC147.txt\", sep = \"\\t\", names = [\"Image\", \"Label\"])\n",
    "fsc147.head()"
   ]
  },
  {
   "cell_type": "code",
   "execution_count": 3,
   "id": "81a40720-2094-447e-a172-4e922a3eb6ef",
   "metadata": {},
   "outputs": [
    {
     "data": {
      "text/plain": [
       "array(['sea shells', 'hot air balloons', 'peppers', 'bread rolls',\n",
       "       'tomatoes', 'geese', 'seagulls', 'peaches', 'balls', 'grapes',\n",
       "       'watermelon', 'beads', 'candles', 'oysters', 'penguins',\n",
       "       'strawberries', 'pigeons', 'macarons', 'crows', 'flamingos',\n",
       "       'cranes', 'boxes', 'stamps', 'watches', 'bowls', 'apples', 'shoes',\n",
       "       'windows', 'cassettes', 'ants', 'birds', 'books', 'cups', 'fishes',\n",
       "       'people', 'alcohol bottles', 'bricks', 'bottle caps', 'plates',\n",
       "       'comic books', 'skateboard', 'sheep', 'buffaloes', 'markers',\n",
       "       'roof tiles', 'pills', 'keyboard keys', 'carrom board pieces',\n",
       "       'pencils', 'coins', 'boats', 'elephants', 'sunglasses', 'cows',\n",
       "       'pens', 'stapler pins', 'camels', 'horses', 'lipstick', 'spoon',\n",
       "       'bottles', 'deers', 'cement bags', 'go game', 'oranges', 'cans',\n",
       "       'chairs', 'caps', 'shirts', 'jeans', 'mini blinds', 'zebras',\n",
       "       'naan bread', 'nuts', 'crab cakes', 'bees', 'coffee beans',\n",
       "       'gemstones', 'cashew nuts', 'buns', 'kidney beans', 'crayons',\n",
       "       'matches', 'bullets', 'finger foods', 'clams', 'cotton balls',\n",
       "       'cupcake tray', 'green peas', 'onion rings', 'polka dots',\n",
       "       'instant noodles', 'red beans', 'm&m pieces', 'baguette rolls',\n",
       "       'chicken wings', 'ice cream', 'meat skewers', 'kitchen towels',\n",
       "       'jade stones', 'toilet paper rolls', 'candy pieces',\n",
       "       'spring rolls', 'chewing gum pieces', 'pearls', 'donuts tray',\n",
       "       'cupcakes', 'lighters', 'stairs', 'shallots', 'potatoes', 'screws',\n",
       "       'goldfish snack', 'marbles', 'polka dot tiles', 'rice bags',\n",
       "       'oyster shells', 'mosaic tiles', 'prawn crackers',\n",
       "       'supermarket shelf', 'sausages', 'potato chips', 'calamari rings',\n",
       "       'biscuits', 'croissants', 'nails', 'skis', 'goats', 'swans',\n",
       "       'bananas', 'kiwis', 'tree logs', 'eggs', 'cars',\n",
       "       'birthday candles', 'sauce bottles', 'cereals', 'fresh cut',\n",
       "       'milk cartons', 'sticky notes', 'nail polish', 'cartridges',\n",
       "       'legos', 'flower pots', 'flowers', 'straws', 'chopstick'],\n",
       "      dtype=object)"
      ]
     },
     "execution_count": 3,
     "metadata": {},
     "output_type": "execute_result"
    }
   ],
   "source": [
    "labels_fsc147 = fsc147[\"Label\"].unique()\n",
    "labels_fsc147"
   ]
  },
  {
   "cell_type": "code",
   "execution_count": 4,
   "id": "536ea018-e4ec-49ef-a75e-61f6a3d7c648",
   "metadata": {},
   "outputs": [
    {
     "data": {
      "text/plain": [
       "['person',\n",
       " 'bicycle',\n",
       " 'car',\n",
       " 'motorcycle',\n",
       " 'airplane',\n",
       " 'bus',\n",
       " 'train',\n",
       " 'truck',\n",
       " 'boat',\n",
       " 'traffic light',\n",
       " 'fire hydrant',\n",
       " 'stop sign',\n",
       " 'parking meter',\n",
       " 'bench',\n",
       " 'bird',\n",
       " 'cat',\n",
       " 'dog',\n",
       " 'horse',\n",
       " 'sheep',\n",
       " 'cow',\n",
       " 'elephant',\n",
       " 'bear',\n",
       " 'zebra',\n",
       " 'giraffe',\n",
       " 'backpack',\n",
       " 'umbrella',\n",
       " 'handbag',\n",
       " 'tie',\n",
       " 'suitcase',\n",
       " 'frisbee',\n",
       " 'skis',\n",
       " 'snowboard',\n",
       " 'sports ball',\n",
       " 'kite',\n",
       " 'baseball bat',\n",
       " 'baseball glove',\n",
       " 'skateboard',\n",
       " 'surfboard',\n",
       " 'tennis racket',\n",
       " 'bottle',\n",
       " 'wine glass',\n",
       " 'cup',\n",
       " 'fork',\n",
       " 'knife',\n",
       " 'spoon',\n",
       " 'bowl',\n",
       " 'banana',\n",
       " 'apple',\n",
       " 'sandwich',\n",
       " 'orange',\n",
       " 'broccoli',\n",
       " 'carrot',\n",
       " 'hot dog',\n",
       " 'pizza',\n",
       " 'donut',\n",
       " 'cake',\n",
       " 'chair',\n",
       " 'couch',\n",
       " 'potted plant',\n",
       " 'bed',\n",
       " 'dining table',\n",
       " 'toilet',\n",
       " 'tv',\n",
       " 'laptop',\n",
       " 'mouse',\n",
       " 'remote',\n",
       " 'keyboard',\n",
       " 'cell phone',\n",
       " 'microwave',\n",
       " 'oven',\n",
       " 'toaster',\n",
       " 'sink',\n",
       " 'refrigerator',\n",
       " 'book',\n",
       " 'clock',\n",
       " 'vase',\n",
       " 'scissors',\n",
       " 'teddy bear',\n",
       " 'hair drier',\n",
       " 'toothbrush']"
      ]
     },
     "execution_count": 4,
     "metadata": {},
     "output_type": "execute_result"
    }
   ],
   "source": [
    "f = open(\"misc/labels.txt\")\n",
    "labels_coco = f.readlines()\n",
    "labels_coco = [line.rstrip('\\n') for line in labels_coco]\n",
    "labels_coco"
   ]
  },
  {
   "cell_type": "code",
   "execution_count": 5,
   "id": "818c9e71-9c38-4f90-976a-2d5d54252564",
   "metadata": {},
   "outputs": [
    {
     "data": {
      "text/plain": [
       "['cups',\n",
       " 'boats',\n",
       " 'horses',\n",
       " 'toilet paper rolls',\n",
       " 'cows',\n",
       " 'cupcake tray',\n",
       " 'bowls',\n",
       " 'chairs',\n",
       " 'keyboard keys',\n",
       " 'bottles',\n",
       " 'books',\n",
       " 'apples',\n",
       " 'macarons',\n",
       " 'sauce bottles',\n",
       " 'alcohol bottles',\n",
       " 'donuts tray',\n",
       " 'birds',\n",
       " 'carrom board pieces',\n",
       " 'comic books',\n",
       " 'sheep',\n",
       " 'cupcakes',\n",
       " 'cars',\n",
       " 'skateboard',\n",
       " 'elephants',\n",
       " 'skis',\n",
       " 'milk cartons',\n",
       " 'zebras',\n",
       " 'bananas',\n",
       " 'cartridges',\n",
       " 'oranges',\n",
       " 'crab cakes',\n",
       " 'bottle caps',\n",
       " 'spoon']"
      ]
     },
     "execution_count": 5,
     "metadata": {},
     "output_type": "execute_result"
    }
   ],
   "source": [
    "labels_common = [x for y in labels_coco for x in labels_fsc147 if y in x]\n",
    "list(set(labels_common))\n",
    "\n",
    "# the labels are not the same, so we have to manually filter them out\n",
    "# keep: spoon, skis, birds, zebrac, chairs, elephants, sheep, books, cups, skateboard, bananas, apples, bowls, cars, horses, bottles, dows, oranges, boats"
   ]
  },
  {
   "cell_type": "code",
   "execution_count": 6,
   "id": "966621fb-189b-400e-990d-6d0ab6fd4413",
   "metadata": {},
   "outputs": [
    {
     "name": "stdout",
     "output_type": "stream",
     "text": [
      "Requirement already satisfied: pycocotools in c:\\users\\matij\\anaconda3\\envs\\fscount\\lib\\site-packages (2.0.3)\n",
      "Requirement already satisfied: cython>=0.27.3 in c:\\users\\matij\\anaconda3\\envs\\fscount\\lib\\site-packages (from pycocotools) (0.29.25)\n",
      "Requirement already satisfied: setuptools>=18.0 in c:\\users\\matij\\anaconda3\\envs\\fscount\\lib\\site-packages (from pycocotools) (58.0.4)\n",
      "Requirement already satisfied: matplotlib>=2.1.0 in c:\\users\\matij\\appdata\\roaming\\python\\python37\\site-packages (from pycocotools) (3.4.3)\n",
      "Requirement already satisfied: numpy>=1.16 in c:\\users\\matij\\anaconda3\\envs\\fscount\\lib\\site-packages (from matplotlib>=2.1.0->pycocotools) (1.21.2)\n",
      "Requirement already satisfied: kiwisolver>=1.0.1 in c:\\users\\matij\\appdata\\roaming\\python\\python37\\site-packages (from matplotlib>=2.1.0->pycocotools) (1.3.2)\n",
      "Requirement already satisfied: python-dateutil>=2.7 in c:\\users\\matij\\anaconda3\\envs\\fscount\\lib\\site-packages (from matplotlib>=2.1.0->pycocotools) (2.8.2)\n",
      "Requirement already satisfied: pyparsing>=2.2.1 in c:\\users\\matij\\appdata\\roaming\\python\\python37\\site-packages (from matplotlib>=2.1.0->pycocotools) (2.4.7)\n",
      "Requirement already satisfied: pillow>=6.2.0 in c:\\users\\matij\\anaconda3\\envs\\fscount\\lib\\site-packages (from matplotlib>=2.1.0->pycocotools) (8.4.0)\n",
      "Requirement already satisfied: cycler>=0.10 in c:\\users\\matij\\appdata\\roaming\\python\\python37\\site-packages (from matplotlib>=2.1.0->pycocotools) (0.10.0)\n",
      "Requirement already satisfied: six in c:\\users\\matij\\appdata\\roaming\\python\\python37\\site-packages (from cycler>=0.10->matplotlib>=2.1.0->pycocotools) (1.15.0)\n"
     ]
    }
   ],
   "source": [
    "!pip install pycocotools"
   ]
  },
  {
   "cell_type": "code",
   "execution_count": 7,
   "id": "17b7dcfe-f4c4-45d6-b0d6-938cda1f251a",
   "metadata": {},
   "outputs": [
    {
     "name": "stdout",
     "output_type": "stream",
     "text": [
      "loading annotations into memory...\n",
      "Done (t=0.59s)\n",
      "creating index...\n",
      "index created!\n",
      "[50, 35, 16, 24, 62, 22, 20, 84, 47, 41, 52, 53, 51, 19, 44, 55, 9]\n",
      "Out of 3170, 1608 have more than one object of the target category\n"
     ]
    }
   ],
   "source": [
    "from pycocotools.coco import COCO\n",
    "import requests\n",
    "\n",
    "# instantiate COCO specifying the annotations json path\n",
    "coco = COCO(\"misc/instances_val2017.json\")\n",
    "# Specify a list of category names of interest\n",
    "catIds = [50, 35, 16, 24, 62, 22, 20, 84, 47, 41, 52, 53, 51, 19, 44, 55, 9]\n",
    "print(catIds)\n",
    "# Get the corresponding image ids and images using loadImgs\n",
    "imgIdsAll = []\n",
    "more_than_one = 0\n",
    "for catId in catIds:\n",
    "    imgIds = coco.getImgIds(catIds=catId)\n",
    "    imgIdsAll.extend(imgIds)\n",
    "    \n",
    "    for imgId in imgIds:\n",
    "        cat_objects = 0\n",
    "        annotationIds = coco.getAnnIds(imgId)\n",
    "        annotations = coco.loadAnns(annotationIds)\n",
    "        for anno in annotations:\n",
    "            if anno['category_id'] == catId:\n",
    "                cat_objects += 1\n",
    "        \n",
    "        if cat_objects > 1:\n",
    "            more_than_one += 1\n",
    "    \n",
    "print(f\"Out of {len(imgIdsAll)}, {more_than_one} have more than one object of the target category\")"
   ]
  },
  {
   "cell_type": "code",
   "execution_count": 8,
   "id": "72a3ddb0-d062-4052-a62b-715144561fa6",
   "metadata": {},
   "outputs": [],
   "source": [
    "# What, to so gledal najbrž na svojem data setu?\n",
    "labels_common = ['spoon', 'skis', 'birds', 'zebras', 'chairs', 'elephants', 'sheep', 'books', 'cups', 'skateboard', 'bananas', 'apples', 'bowls', 'cars', \n",
    "              'horses', 'bottles', 'oranges', 'boats']"
   ]
  },
  {
   "cell_type": "code",
   "execution_count": 9,
   "id": "f1f48179-8f93-4796-96ad-51e1462f68a7",
   "metadata": {},
   "outputs": [
    {
     "data": {
      "text/plain": [
       "888"
      ]
     },
     "execution_count": 9,
     "metadata": {},
     "output_type": "execute_result"
    }
   ],
   "source": [
    "sum(fsc147[\"Label\"].isin(labels_common))"
   ]
  },
  {
   "cell_type": "code",
   "execution_count": 10,
   "id": "951ece92-24a3-4767-8109-30a70fd23029",
   "metadata": {},
   "outputs": [
    {
     "data": {
      "text/html": [
       "<div>\n",
       "<style scoped>\n",
       "    .dataframe tbody tr th:only-of-type {\n",
       "        vertical-align: middle;\n",
       "    }\n",
       "\n",
       "    .dataframe tbody tr th {\n",
       "        vertical-align: top;\n",
       "    }\n",
       "\n",
       "    .dataframe thead th {\n",
       "        text-align: right;\n",
       "    }\n",
       "</style>\n",
       "<table border=\"1\" class=\"dataframe\">\n",
       "  <thead>\n",
       "    <tr style=\"text-align: right;\">\n",
       "      <th></th>\n",
       "      <th>Image</th>\n",
       "      <th>Label</th>\n",
       "      <th>Split</th>\n",
       "    </tr>\n",
       "  </thead>\n",
       "  <tbody>\n",
       "    <tr>\n",
       "      <th>0</th>\n",
       "      <td>2.jpg</td>\n",
       "      <td>sea shells</td>\n",
       "      <td>NaN</td>\n",
       "    </tr>\n",
       "    <tr>\n",
       "      <th>1</th>\n",
       "      <td>3.jpg</td>\n",
       "      <td>hot air balloons</td>\n",
       "      <td>NaN</td>\n",
       "    </tr>\n",
       "    <tr>\n",
       "      <th>2</th>\n",
       "      <td>4.jpg</td>\n",
       "      <td>hot air balloons</td>\n",
       "      <td>NaN</td>\n",
       "    </tr>\n",
       "    <tr>\n",
       "      <th>3</th>\n",
       "      <td>5.jpg</td>\n",
       "      <td>hot air balloons</td>\n",
       "      <td>NaN</td>\n",
       "    </tr>\n",
       "    <tr>\n",
       "      <th>4</th>\n",
       "      <td>6.jpg</td>\n",
       "      <td>hot air balloons</td>\n",
       "      <td>NaN</td>\n",
       "    </tr>\n",
       "    <tr>\n",
       "      <th>...</th>\n",
       "      <td>...</td>\n",
       "      <td>...</td>\n",
       "      <td>...</td>\n",
       "    </tr>\n",
       "    <tr>\n",
       "      <th>6141</th>\n",
       "      <td>6802.jpg</td>\n",
       "      <td>boxes</td>\n",
       "      <td>NaN</td>\n",
       "    </tr>\n",
       "    <tr>\n",
       "      <th>6142</th>\n",
       "      <td>7444.jpg</td>\n",
       "      <td>boxes</td>\n",
       "      <td>NaN</td>\n",
       "    </tr>\n",
       "    <tr>\n",
       "      <th>6143</th>\n",
       "      <td>6862.jpg</td>\n",
       "      <td>boxes</td>\n",
       "      <td>NaN</td>\n",
       "    </tr>\n",
       "    <tr>\n",
       "      <th>6144</th>\n",
       "      <td>7382.jpg</td>\n",
       "      <td>boxes</td>\n",
       "      <td>NaN</td>\n",
       "    </tr>\n",
       "    <tr>\n",
       "      <th>6145</th>\n",
       "      <td>7362.jpg</td>\n",
       "      <td>boxes</td>\n",
       "      <td>NaN</td>\n",
       "    </tr>\n",
       "  </tbody>\n",
       "</table>\n",
       "<p>6146 rows × 3 columns</p>\n",
       "</div>"
      ],
      "text/plain": [
       "         Image             Label  Split\n",
       "0        2.jpg        sea shells    NaN\n",
       "1        3.jpg  hot air balloons    NaN\n",
       "2        4.jpg  hot air balloons    NaN\n",
       "3        5.jpg  hot air balloons    NaN\n",
       "4        6.jpg  hot air balloons    NaN\n",
       "...        ...               ...    ...\n",
       "6141  6802.jpg             boxes    NaN\n",
       "6142  7444.jpg             boxes    NaN\n",
       "6143  6862.jpg             boxes    NaN\n",
       "6144  7382.jpg             boxes    NaN\n",
       "6145  7362.jpg             boxes    NaN\n",
       "\n",
       "[6146 rows x 3 columns]"
      ]
     },
     "execution_count": 10,
     "metadata": {},
     "output_type": "execute_result"
    }
   ],
   "source": [
    "fsc147[fsc147[\"Label\"].isin(labels_common)]\n",
    "fsc147[\"Split\"] = np.nan\n",
    "fsc147"
   ]
  },
  {
   "cell_type": "code",
   "execution_count": 11,
   "id": "8afba4c1-bd65-4271-9728-9d9682f76dfe",
   "metadata": {},
   "outputs": [],
   "source": [
    "f = open(\"../data/Train_Test_Val_FSC_147.json\", \"r\")\n",
    "splits = json.load(f)"
   ]
  },
  {
   "cell_type": "code",
   "execution_count": 12,
   "id": "5a0d398d-5995-4aa7-bcf5-afff603920f4",
   "metadata": {},
   "outputs": [
    {
     "data": {
      "text/html": [
       "<div>\n",
       "<style scoped>\n",
       "    .dataframe tbody tr th:only-of-type {\n",
       "        vertical-align: middle;\n",
       "    }\n",
       "\n",
       "    .dataframe tbody tr th {\n",
       "        vertical-align: top;\n",
       "    }\n",
       "\n",
       "    .dataframe thead th {\n",
       "        text-align: right;\n",
       "    }\n",
       "</style>\n",
       "<table border=\"1\" class=\"dataframe\">\n",
       "  <thead>\n",
       "    <tr style=\"text-align: right;\">\n",
       "      <th></th>\n",
       "      <th>Image</th>\n",
       "      <th>Label</th>\n",
       "      <th>Split</th>\n",
       "    </tr>\n",
       "  </thead>\n",
       "  <tbody>\n",
       "    <tr>\n",
       "      <th>0</th>\n",
       "      <td>2.jpg</td>\n",
       "      <td>sea shells</td>\n",
       "      <td>test</td>\n",
       "    </tr>\n",
       "    <tr>\n",
       "      <th>1</th>\n",
       "      <td>3.jpg</td>\n",
       "      <td>hot air balloons</td>\n",
       "      <td>test</td>\n",
       "    </tr>\n",
       "    <tr>\n",
       "      <th>2</th>\n",
       "      <td>4.jpg</td>\n",
       "      <td>hot air balloons</td>\n",
       "      <td>test</td>\n",
       "    </tr>\n",
       "    <tr>\n",
       "      <th>3</th>\n",
       "      <td>5.jpg</td>\n",
       "      <td>hot air balloons</td>\n",
       "      <td>test</td>\n",
       "    </tr>\n",
       "    <tr>\n",
       "      <th>4</th>\n",
       "      <td>6.jpg</td>\n",
       "      <td>hot air balloons</td>\n",
       "      <td>test</td>\n",
       "    </tr>\n",
       "    <tr>\n",
       "      <th>...</th>\n",
       "      <td>...</td>\n",
       "      <td>...</td>\n",
       "      <td>...</td>\n",
       "    </tr>\n",
       "    <tr>\n",
       "      <th>6141</th>\n",
       "      <td>6802.jpg</td>\n",
       "      <td>boxes</td>\n",
       "      <td>train</td>\n",
       "    </tr>\n",
       "    <tr>\n",
       "      <th>6142</th>\n",
       "      <td>7444.jpg</td>\n",
       "      <td>boxes</td>\n",
       "      <td>train</td>\n",
       "    </tr>\n",
       "    <tr>\n",
       "      <th>6143</th>\n",
       "      <td>6862.jpg</td>\n",
       "      <td>boxes</td>\n",
       "      <td>train</td>\n",
       "    </tr>\n",
       "    <tr>\n",
       "      <th>6144</th>\n",
       "      <td>7382.jpg</td>\n",
       "      <td>boxes</td>\n",
       "      <td>train</td>\n",
       "    </tr>\n",
       "    <tr>\n",
       "      <th>6145</th>\n",
       "      <td>7362.jpg</td>\n",
       "      <td>boxes</td>\n",
       "      <td>train</td>\n",
       "    </tr>\n",
       "  </tbody>\n",
       "</table>\n",
       "<p>6146 rows × 3 columns</p>\n",
       "</div>"
      ],
      "text/plain": [
       "         Image             Label  Split\n",
       "0        2.jpg        sea shells   test\n",
       "1        3.jpg  hot air balloons   test\n",
       "2        4.jpg  hot air balloons   test\n",
       "3        5.jpg  hot air balloons   test\n",
       "4        6.jpg  hot air balloons   test\n",
       "...        ...               ...    ...\n",
       "6141  6802.jpg             boxes  train\n",
       "6142  7444.jpg             boxes  train\n",
       "6143  6862.jpg             boxes  train\n",
       "6144  7382.jpg             boxes  train\n",
       "6145  7362.jpg             boxes  train\n",
       "\n",
       "[6146 rows x 3 columns]"
      ]
     },
     "execution_count": 12,
     "metadata": {},
     "output_type": "execute_result"
    }
   ],
   "source": [
    "for i, img_name in enumerate(fsc147[\"Image\"].values):\n",
    "    #print(img_name)\n",
    "    split = \"test\" if img_name in splits[\"test\"] else \"train\"\n",
    "    split = \"val\" if img_name in splits[\"val\"] else split\n",
    "    fsc147.loc[i, \"Split\"] = split\n",
    "    \n",
    "fsc147\n"
   ]
  },
  {
   "cell_type": "code",
   "execution_count": 13,
   "id": "e4fdefca-8557-4dc8-9bca-01b59d2f351f",
   "metadata": {},
   "outputs": [
    {
     "data": {
      "text/html": [
       "<div>\n",
       "<style scoped>\n",
       "    .dataframe tbody tr th:only-of-type {\n",
       "        vertical-align: middle;\n",
       "    }\n",
       "\n",
       "    .dataframe tbody tr th {\n",
       "        vertical-align: top;\n",
       "    }\n",
       "\n",
       "    .dataframe thead th {\n",
       "        text-align: right;\n",
       "    }\n",
       "</style>\n",
       "<table border=\"1\" class=\"dataframe\">\n",
       "  <thead>\n",
       "    <tr style=\"text-align: right;\">\n",
       "      <th></th>\n",
       "      <th>Image</th>\n",
       "      <th>Label</th>\n",
       "      <th>Split</th>\n",
       "    </tr>\n",
       "  </thead>\n",
       "  <tbody>\n",
       "    <tr>\n",
       "      <th>523</th>\n",
       "      <td>685.jpg</td>\n",
       "      <td>apples</td>\n",
       "      <td>test</td>\n",
       "    </tr>\n",
       "    <tr>\n",
       "      <th>524</th>\n",
       "      <td>686.jpg</td>\n",
       "      <td>apples</td>\n",
       "      <td>test</td>\n",
       "    </tr>\n",
       "    <tr>\n",
       "      <th>525</th>\n",
       "      <td>687.jpg</td>\n",
       "      <td>apples</td>\n",
       "      <td>test</td>\n",
       "    </tr>\n",
       "    <tr>\n",
       "      <th>526</th>\n",
       "      <td>689.jpg</td>\n",
       "      <td>apples</td>\n",
       "      <td>test</td>\n",
       "    </tr>\n",
       "    <tr>\n",
       "      <th>527</th>\n",
       "      <td>691.jpg</td>\n",
       "      <td>apples</td>\n",
       "      <td>test</td>\n",
       "    </tr>\n",
       "    <tr>\n",
       "      <th>...</th>\n",
       "      <td>...</td>\n",
       "      <td>...</td>\n",
       "      <td>...</td>\n",
       "    </tr>\n",
       "    <tr>\n",
       "      <th>6027</th>\n",
       "      <td>6849.jpg</td>\n",
       "      <td>apples</td>\n",
       "      <td>test</td>\n",
       "    </tr>\n",
       "    <tr>\n",
       "      <th>6123</th>\n",
       "      <td>7500.jpg</td>\n",
       "      <td>sheep</td>\n",
       "      <td>test</td>\n",
       "    </tr>\n",
       "    <tr>\n",
       "      <th>6124</th>\n",
       "      <td>7047.jpg</td>\n",
       "      <td>sheep</td>\n",
       "      <td>test</td>\n",
       "    </tr>\n",
       "    <tr>\n",
       "      <th>6125</th>\n",
       "      <td>7412.jpg</td>\n",
       "      <td>sheep</td>\n",
       "      <td>test</td>\n",
       "    </tr>\n",
       "    <tr>\n",
       "      <th>6126</th>\n",
       "      <td>6901.jpg</td>\n",
       "      <td>sheep</td>\n",
       "      <td>test</td>\n",
       "    </tr>\n",
       "  </tbody>\n",
       "</table>\n",
       "<p>282 rows × 3 columns</p>\n",
       "</div>"
      ],
      "text/plain": [
       "         Image   Label Split\n",
       "523    685.jpg  apples  test\n",
       "524    686.jpg  apples  test\n",
       "525    687.jpg  apples  test\n",
       "526    689.jpg  apples  test\n",
       "527    691.jpg  apples  test\n",
       "...        ...     ...   ...\n",
       "6027  6849.jpg  apples  test\n",
       "6123  7500.jpg   sheep  test\n",
       "6124  7047.jpg   sheep  test\n",
       "6125  7412.jpg   sheep  test\n",
       "6126  6901.jpg   sheep  test\n",
       "\n",
       "[282 rows x 3 columns]"
      ]
     },
     "execution_count": 13,
     "metadata": {},
     "output_type": "execute_result"
    }
   ],
   "source": [
    "fsc147[(fsc147[\"Split\"] == \"test\") & (fsc147[\"Label\"].isin(labels_common))]"
   ]
  },
  {
   "cell_type": "markdown",
   "id": "b8593c96-8ea4-451f-b44e-a455a38d73b1",
   "metadata": {},
   "source": [
    "# Testing Object Detectors"
   ]
  },
  {
   "cell_type": "code",
   "execution_count": 14,
   "id": "e17a46f7-5364-4436-a0d0-687356eac5d2",
   "metadata": {},
   "outputs": [
    {
     "data": {
      "text/plain": [
       "{'spoon': 50,\n",
       " 'skis': 35,\n",
       " 'birds': 16,\n",
       " 'zebras': 24,\n",
       " 'chairs': 62,\n",
       " 'elephants': 22,\n",
       " 'sheep': 20,\n",
       " 'books': 84,\n",
       " 'cups': 47,\n",
       " 'skateboard': 41,\n",
       " 'bananas': 52,\n",
       " 'apples': 53,\n",
       " 'bowls': 51,\n",
       " 'cars': 19,\n",
       " 'horses': 44,\n",
       " 'bottles': 55,\n",
       " 'oranges': 9}"
      ]
     },
     "execution_count": 14,
     "metadata": {},
     "output_type": "execute_result"
    }
   ],
   "source": [
    "labels_common = ['spoon', 'skis', 'birds', 'zebras', 'chairs', 'elephants', 'sheep', 'books', 'cups', 'skateboard', 'bananas', 'apples', 'bowls', 'cars', \n",
    "              'horses', 'bottles', 'oranges', 'boats']\n",
    "\n",
    "labels_coco_ids = [50, 35, 16, 24, 62, 22, 20, 84, 47, 41, 52, 53, 51, 19, 44, 55, 9]\n",
    "\n",
    "label2coco = dict(zip(labels_common, labels_coco_ids))\n",
    "label2coco"
   ]
  },
  {
   "cell_type": "code",
   "execution_count": 25,
   "id": "93d9079c-468e-4266-a44c-94f3d27131a4",
   "metadata": {},
   "outputs": [],
   "source": [
    "import torchvision\n",
    "from PIL import Image\n",
    "import os\n",
    "import matplotlib.pyplot as plt\n",
    "import torch"
   ]
  },
  {
   "cell_type": "code",
   "execution_count": 146,
   "id": "60b6bae6-05b4-45d5-a6dc-6c239713aad6",
   "metadata": {},
   "outputs": [],
   "source": [
    "data_path = \"../data/images_384_VarV2\"\n",
    "split_path = \"../data/Train_Test_Val_FSC_147.json\"\n",
    "anno_path = \"../data/annotation_FSC147_384.json\"\n",
    "split = \"val_coco\""
   ]
  },
  {
   "cell_type": "code",
   "execution_count": 147,
   "id": "a855ddee-9983-438d-86d1-ca0134292459",
   "metadata": {},
   "outputs": [],
   "source": [
    "f = open(split_path, \"r\")\n",
    "splits = json.load(f)\n",
    "\n",
    "f = open(anno_path, \"r\")\n",
    "annotations = json.load(f)"
   ]
  },
  {
   "cell_type": "code",
   "execution_count": 190,
   "id": "ecc935b3-93a8-496d-82fa-029a2b347524",
   "metadata": {},
   "outputs": [
    {
     "data": {
      "text/plain": [
       "['test', 'test_coco', 'train', 'val', 'val_coco']"
      ]
     },
     "execution_count": 190,
     "metadata": {},
     "output_type": "execute_result"
    }
   ],
   "source": [
    "list(splits.keys())"
   ]
  },
  {
   "cell_type": "code",
   "execution_count": 148,
   "id": "12007544-935a-4546-a845-c690770356a6",
   "metadata": {},
   "outputs": [
    {
     "data": {
      "text/plain": [
       "True"
      ]
     },
     "execution_count": 148,
     "metadata": {},
     "output_type": "execute_result"
    }
   ],
   "source": [
    "torch.cuda.is_available()"
   ]
  },
  {
   "cell_type": "code",
   "execution_count": 149,
   "id": "ef927ca0-d330-4faa-b4ce-bb58e220b745",
   "metadata": {},
   "outputs": [],
   "source": [
    "torch.cuda.empty_cache()"
   ]
  },
  {
   "cell_type": "code",
   "execution_count": 180,
   "id": "b1afabc0-21f9-465a-ae64-5fcbdb94fc09",
   "metadata": {},
   "outputs": [],
   "source": [
    "%%capture\n",
    "model = torchvision.models.detection.maskrcnn_resnet50_fpn(pretrained = True,  \n",
    "                                                            box_nms_thresh = 0.5,\n",
    "                                                            #box_score_thresh = 0.3,\n",
    "                                                            box_detections_per_img = 1000)\n",
    "#model = torchvision.models.detection.fasterrcnn_resnet50_fpn(pretrained = True,\n",
    "#                                                              box_nms_thresh = 0.5,\n",
    "#                                                              box_detections_per_img = 1000)\n",
    "#model = torchvision.models.detection.retinanet_resnet50_fpn(pretrained = True,\n",
    "#                                                            nms_thresh = 0.5,\n",
    "#                                                            detections_per_img = 1000)\n",
    "#model = torchvision.models.detection.ssd300_vgg16(pretrained = True,\n",
    "#                                                    nms_thresh = 0.5,\n",
    "#                                                    detections_per_img = 1000)\n",
    "\n",
    "model.eval()\n",
    "model.cuda()"
   ]
  },
  {
   "cell_type": "code",
   "execution_count": 181,
   "id": "98abcaa2-8fb2-4d65-8760-284d01b8fc6f",
   "metadata": {},
   "outputs": [],
   "source": [
    "gts = []\n",
    "preds = []"
   ]
  },
  {
   "cell_type": "code",
   "execution_count": 182,
   "id": "616089bc-13cf-41a5-93ee-0fc7d7f66029",
   "metadata": {},
   "outputs": [
    {
     "name": "stdout",
     "output_type": "stream",
     "text": [
      "0\n",
      "10\n",
      "20\n",
      "30\n",
      "40\n",
      "50\n",
      "60\n",
      "70\n",
      "80\n",
      "90\n",
      "100\n",
      "110\n",
      "120\n",
      "130\n",
      "140\n",
      "150\n",
      "160\n",
      "170\n",
      "180\n",
      "190\n",
      "200\n",
      "210\n",
      "220\n",
      "230\n",
      "240\n",
      "250\n",
      "260\n",
      "270\n"
     ]
    }
   ],
   "source": [
    "for i, img_name in enumerate(splits[split]):\n",
    "    img_gt = len(annotations[img_name][\"points\"])\n",
    "    img_label = fsc147[fsc147[\"Image\"] == img_name].Label.values[0]\n",
    "    img_coco_id = label2coco[img_label]\n",
    "    img = np.array(Image.open(os.path.join(data_path, img_name)))\n",
    "\n",
    "    # torchvision preprocessing\n",
    "    img = np.transpose(img, (2, 0, 1))\n",
    "    img = np.expand_dims(img, axis = 0)\n",
    "    img_tensor = torch.Tensor(img) / 255\n",
    "    \n",
    "    with torch.no_grad():\n",
    "        res = model(img_tensor.cuda())[0]['labels']\n",
    "        pred_labels = res.cpu().numpy()\n",
    "        del res\n",
    "        del img_tensor\n",
    "    count = np.sum(pred_labels == img_coco_id)\n",
    "    preds.append(count)\n",
    "    gts.append(img_gt)\n",
    "    \n",
    "    if i % 10 == 0:\n",
    "        print(i)\n",
    "    \n",
    "    #print(f\"{img_name}: {img_gt}\")\n",
    "    #print(f\"Model 1 Prediction: {count1}\")"
   ]
  },
  {
   "cell_type": "code",
   "execution_count": 183,
   "id": "90292f66-b941-481e-aece-7ac39ab9f1a2",
   "metadata": {},
   "outputs": [],
   "source": [
    "gts = np.array(gts)\n",
    "preds = np.array(preds)"
   ]
  },
  {
   "cell_type": "markdown",
   "id": "795c1df1-423d-485e-ada7-a5a56872642e",
   "metadata": {},
   "source": [
    "### MAE"
   ]
  },
  {
   "cell_type": "code",
   "execution_count": 184,
   "id": "d0eac5b5-4046-43ac-9847-947a2f79e3e2",
   "metadata": {},
   "outputs": [],
   "source": [
    "ABS_ERR = np.abs(gts - preds)"
   ]
  },
  {
   "cell_type": "code",
   "execution_count": 185,
   "id": "312d9baa-803d-41b4-b269-51bd2281d1ee",
   "metadata": {},
   "outputs": [
    {
     "data": {
      "text/plain": [
       "52.04"
      ]
     },
     "execution_count": 185,
     "metadata": {},
     "output_type": "execute_result"
    }
   ],
   "source": [
    "np.round(np.mean(ABS_ERR), 2)"
   ]
  },
  {
   "cell_type": "code",
   "execution_count": 186,
   "id": "f9d6b859-a1c0-4183-be18-541c54369179",
   "metadata": {},
   "outputs": [
    {
     "data": {
      "text/plain": [
       "159.98"
      ]
     },
     "execution_count": 186,
     "metadata": {},
     "output_type": "execute_result"
    }
   ],
   "source": [
    "np.round(np.std(ABS_ERR), 2)"
   ]
  },
  {
   "cell_type": "markdown",
   "id": "badc08aa-4c84-479d-b38e-e2bb3e2b5783",
   "metadata": {},
   "source": [
    "### RMSE"
   ]
  },
  {
   "cell_type": "code",
   "execution_count": 187,
   "id": "8f38e8a9-69df-4d0e-aa66-c3c7beaa308d",
   "metadata": {},
   "outputs": [],
   "source": [
    "SQ_ERR = (gts - preds) ** 2"
   ]
  },
  {
   "cell_type": "code",
   "execution_count": 188,
   "id": "94080dad-e839-4c2c-be55-a64d188b6708",
   "metadata": {},
   "outputs": [
    {
     "data": {
      "text/plain": [
       "168.23"
      ]
     },
     "execution_count": 188,
     "metadata": {},
     "output_type": "execute_result"
    }
   ],
   "source": [
    "np.round(np.sqrt(np.mean(SQ_ERR)), 2)"
   ]
  },
  {
   "cell_type": "code",
   "execution_count": 189,
   "id": "0703d074-69a1-454b-8835-523c925328e5",
   "metadata": {},
   "outputs": [
    {
     "data": {
      "text/plain": [
       "523.21"
      ]
     },
     "execution_count": 189,
     "metadata": {},
     "output_type": "execute_result"
    }
   ],
   "source": [
    "np.round(np.sqrt(np.std(SQ_ERR)), 2)"
   ]
  },
  {
   "cell_type": "code",
   "execution_count": null,
   "id": "712d71d7-56e9-4dee-8994-1a8c82aff121",
   "metadata": {},
   "outputs": [],
   "source": []
  },
  {
   "cell_type": "code",
   "execution_count": null,
   "id": "266ee316-4f86-4659-942b-d6f993b4de2d",
   "metadata": {},
   "outputs": [],
   "source": []
  }
 ],
 "metadata": {
  "kernelspec": {
   "display_name": "Python [conda env:fscount] *",
   "language": "python",
   "name": "conda-env-fscount-py"
  },
  "language_info": {
   "codemirror_mode": {
    "name": "ipython",
    "version": 3
   },
   "file_extension": ".py",
   "mimetype": "text/x-python",
   "name": "python",
   "nbconvert_exporter": "python",
   "pygments_lexer": "ipython3",
   "version": "3.7.11"
  }
 },
 "nbformat": 4,
 "nbformat_minor": 5
}

{
 "cells": [
  {
   "cell_type": "markdown",
   "metadata": {},
   "source": [
    "# Results visualisation\n",
    "\n",
    "In this notebook ve visualize the results of sigma test and show the effects of test time adaptation."
   ]
  },
  {
   "cell_type": "code",
   "execution_count": 1,
   "metadata": {},
   "outputs": [],
   "source": [
    "import matplotlib.pyplot as plt\n",
    "from matplotlib import cm\n",
    "import numpy as np\n",
    "import torch\n",
    "import torch.optim as optim\n",
    "import json\n",
    "from PIL import Image\n",
    "import copy\n",
    "\n",
    "import os\n",
    "os.chdir(\"..\")\n",
    "\n",
    "from model import CountRegressor, Resnet50FPN\n",
    "from utils import MAPS, Scales, Transform, extract_features\n",
    "from utils import MincountLoss, PerturbationLoss"
   ]
  },
  {
   "cell_type": "markdown",
   "metadata": {},
   "source": [
    "## Sigma experiment"
   ]
  },
  {
   "cell_type": "code",
   "execution_count": 4,
   "metadata": {},
   "outputs": [],
   "source": [
    "f = open(\"data/test_reproduced/sigma_selection.txt\", \"r\")\n",
    "sigmas = list(range(2, 22, 2))\n",
    "MAE, SD = [], []\n",
    "\n",
    "state = 0\n",
    "for line in f:\n",
    "    if state == 2:\n",
    "        MAE.append(float(line.strip().split(\" \")[1]))\n",
    "    elif state == 3:\n",
    "        SD.append(float(line.strip().split(\" \")[1]))\n",
    "\n",
    "    state = (state + 1) % 7\n",
    "\n",
    "n = 1286\n",
    "SE = [s / np.sqrt(n) for s in SD]\n",
    "\n",
    "plt.plot(sigmas, MAE, color=\"b\", marker=\"o\")\n",
    "plt.plot(sigmas, [ae + e for (ae, e) in zip(MAE, SE)], color=\"b\", ls=\"--\")\n",
    "plt.plot(sigmas, [ae - e for (ae, e) in zip(MAE, SE)], color=\"b\", ls=\"--\")\n",
    "plt.xlabel(\"Sigma\")\n",
    "plt.ylabel(\"MAE\")\n",
    "plt.title(\"Effect of perturbation sigma on MAE\")\n",
    "plt.savefig(\"data/test_reproduced/sigma.png\")\n",
    "%matplotlib inline\n",
    "plt.show()"
   ]
  },
  {
   "cell_type": "markdown",
   "metadata": {},
   "source": [
    "## Adaption check"
   ]
  },
  {
   "cell_type": "code",
   "execution_count": 2,
   "metadata": {},
   "outputs": [],
   "source": [
    "resnet50_conv = Resnet50FPN()\n",
    "resnet50_conv.cuda()\n",
    "resnet50_conv.eval()\n",
    "\n",
    "regressor = CountRegressor(6, pool='mean')\n",
    "regressor.load_state_dict(torch.load(\"data/pretrainedModels/FamNet_Save1.pth\"))\n",
    "regressor.cuda()\n",
    "regressor.eval()\n",
    "\n",
    "with open(\"data/annotation_FSC147_384.json\") as f:\n",
    "    annotations = json.load(f)"
   ]
  },
  {
   "cell_type": "code",
   "execution_count": 9,
   "metadata": {},
   "outputs": [
    {
     "name": "stderr",
     "output_type": "stream",
     "text": [
      "/home/domenv/conda/envs/reproducibility/lib/python3.9/site-packages/torch/nn/functional.py:3631: UserWarning: Default upsampling behavior when mode=bilinear is changed to align_corners=False since 0.4.0. Please specify align_corners=True if the old behavior is desired. See the documentation of nn.Upsample for details.\n",
      "  warnings.warn(\n",
      "/home/domenv/MLDS2/src/utils.py:106: UserWarning: Using a target size (torch.Size([1])) that is different to the input size (torch.Size([])). This will likely lead to incorrect results due to broadcasting. Please ensure they have the same size.\n",
      "  Loss += F.mse_loss(X,ones)\n"
     ]
    }
   ],
   "source": [
    "f = open(\"data/test_reproduced/adapt_change.txt\")\n",
    "f_out = open(\"data/test_reproduced/adapt_predictions.txt\", \"w\")\n",
    "\n",
    "for line in f:\n",
    "    if line[0] == \"3\":\n",
    "        continue\n",
    "    im_id = line.split(\": \")[0]\n",
    "    f_out.write(f\"Image: {im_id}\\n\")\n",
    "\n",
    "    anno = annotations[im_id]\n",
    "    bboxes = anno['box_examples_coordinates']\n",
    "    dots = np.array(anno['points'])\n",
    "\n",
    "    rects = list()\n",
    "    for bbox in bboxes:\n",
    "        x1, y1 = bbox[0][0], bbox[0][1]\n",
    "        x2, y2 = bbox[2][0], bbox[2][1]\n",
    "        rects.append([y1, x1, y2, x2])\n",
    "\n",
    "    image = Image.open(\"data/images_384_VarV2/\" + im_id)\n",
    "    image.load()\n",
    "    sample = {'image': image, 'lines_boxes': rects}\n",
    "    sample = Transform(sample)\n",
    "    image, boxes = sample['image'], sample['boxes']\n",
    "\n",
    "    image = image.cuda()\n",
    "    boxes = boxes.cuda()\n",
    "\n",
    "    with torch.no_grad(): features = extract_features(resnet50_conv, image.unsqueeze(0), boxes.unsqueeze(0), MAPS, Scales)\n",
    "\n",
    "    # Without adaptation\n",
    "    with torch.no_grad(): output = regressor(features)\n",
    "\n",
    "    gt_cnt = dots.shape[0]\n",
    "    f_out.write(f\"Ground truth: {gt_cnt}\\n\")\n",
    "    pred_cnt = output.sum().item()\n",
    "    f_out.write(f\"Predicted: {pred_cnt}\\n\")\n",
    "\n",
    "    output = output.squeeze(0).to('cpu').numpy()[0].astype(\"float32\")\n",
    "    output = Image.fromarray(np.uint8(cm.viridis(output/np.max(output))*255))\n",
    "    output.save(\"data/test_reproduced/adaptation_predictions/\" + im_id.rstrip(\"jpg\") + \"png\")\n",
    "\n",
    "    # With adaptation\n",
    "    features.required_grad = True\n",
    "    adapted_regressor = copy.deepcopy(regressor)\n",
    "    adapted_regressor.train()\n",
    "    optimizer = optim.Adam(adapted_regressor.parameters(), lr=1e-7)\n",
    "    for step in range(0, 100):\n",
    "        optimizer.zero_grad()\n",
    "        output = adapted_regressor(features)\n",
    "        lCount = 1e-9 * MincountLoss(output, boxes)\n",
    "        lPerturbation = 1e-4 * PerturbationLoss(output, boxes, sigma=8)\n",
    "        Loss = lCount + lPerturbation\n",
    "        # loss can become zero in some cases, where loss is a 0 valued scalar and not a tensor\n",
    "        # So Perform gradient descent only for non zero cases\n",
    "        if torch.is_tensor(Loss):\n",
    "            Loss.backward()\n",
    "            optimizer.step()\n",
    "    features.required_grad = False\n",
    "    output_adapt = adapted_regressor(features)\n",
    "\n",
    "    pred_cnt = output_adapt.sum().item()\n",
    "    f_out.write(f\"Predicted with adaptation: {pred_cnt}\\n\")\n",
    "\n",
    "    output_adapt = output_adapt.squeeze(0).to('cpu').detach().numpy()[0].astype(\"float32\")\n",
    "    output_adapt = Image.fromarray(np.uint8(cm.viridis(output_adapt/np.max(output_adapt))*255))\n",
    "    output_adapt.save(\"data/test_reproduced/adaptation_predictions/\" + im_id.rstrip(\".jpg\") + \"_adapt.png\")\n",
    "\n",
    "f.close()\n",
    "f_out.close()"
   ]
  }
 ],
 "metadata": {
  "kernelspec": {
   "display_name": "reproducibility",
   "language": "python",
   "name": "reproducibility"
  },
  "language_info": {
   "codemirror_mode": {
    "name": "ipython",
    "version": 3
   },
   "file_extension": ".py",
   "mimetype": "text/x-python",
   "name": "python",
   "nbconvert_exporter": "python",
   "pygments_lexer": "ipython3",
   "version": "3.9.7"
  },
  "orig_nbformat": 4
 },
 "nbformat": 4,
 "nbformat_minor": 2
}

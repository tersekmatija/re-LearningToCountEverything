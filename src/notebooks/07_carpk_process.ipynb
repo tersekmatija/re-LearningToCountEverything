{
 "cells": [
  {
   "cell_type": "code",
   "execution_count": 31,
   "id": "932be18c-5252-4a15-8792-00592333a400",
   "metadata": {},
   "outputs": [],
   "source": [
    "import os\n",
    "import numpy as np"
   ]
  },
  {
   "cell_type": "code",
   "execution_count": 32,
   "id": "1cbb8ccc-e645-4b56-8d36-3c50842269ac",
   "metadata": {},
   "outputs": [],
   "source": [
    "ds_path = \"../data/CARPK_devkit/data\""
   ]
  },
  {
   "cell_type": "code",
   "execution_count": 33,
   "id": "bf0361f4-e025-438f-b718-a9942d58b9e1",
   "metadata": {},
   "outputs": [],
   "source": [
    "fn = os.path.join(ds_path, \"ImageSets\", \"test.txt\")\n",
    "file = open(fn, 'r')\n",
    "names = [x.replace('\\n', '') for x in file.readlines()]"
   ]
  },
  {
   "cell_type": "code",
   "execution_count": 34,
   "id": "c3b9302f-69d0-4241-b3fc-970e124eac2a",
   "metadata": {},
   "outputs": [],
   "source": [
    "gts = {}\n",
    "np.random.seed(0)"
   ]
  },
  {
   "cell_type": "code",
   "execution_count": 35,
   "id": "57bdc68a-b518-4628-b02c-0d9a8af63509",
   "metadata": {},
   "outputs": [],
   "source": [
    "for fn in names:\n",
    "    pth = os.path.join(ds_path, \"Annotations\", f\"{fn}.txt\")\n",
    "    arr = np.loadtxt(pth)\n",
    "    \n",
    "    gt = dict()\n",
    "    \n",
    "    x = (arr[:, 0] + arr[:, 1])/2\n",
    "    y = (arr[:, 1] + arr[:, 3])/2\n",
    "    gt[\"points\"] = np.array([x, y]).T.astype(float).tolist()\n",
    "    gt[\"box_examples_coordinates\"] = []\n",
    "    \n",
    "    idx = np.random.choice(range(len(gt[\"points\"])), 3)\n",
    "    for i in idx:\n",
    "        row = arr[i]\n",
    "        \n",
    "        x1, y1, x2, y2 = int(row[0]), int(row[1]), int(row[2]), int(row[3])\n",
    "        ul = [x1, y1]\n",
    "        ur = [x2, y1]\n",
    "        lr = [x2, y2]\n",
    "        ll = [x1, y2]\n",
    "        \n",
    "        gt[\"box_examples_coordinates\"].append([ul, ur, lr, ll])\n",
    "    gts[f\"{fn}.png\"] = gt"
   ]
  },
  {
   "cell_type": "code",
   "execution_count": 36,
   "id": "11bd1e85-be1b-4f13-b963-99d713f82634",
   "metadata": {},
   "outputs": [],
   "source": [
    "import json\n",
    "\n",
    "def convert(o):\n",
    "    if isinstance(o, np.generic): return o.item()  \n",
    "    raise TypeError\n",
    "\n",
    "with open('../data/annotation_CARPK.json', 'w') as fp:\n",
    "    json.dump(gts, fp)#, default=convert)"
   ]
  },
  {
   "cell_type": "code",
   "execution_count": 37,
   "id": "c72d1572-9951-46c8-9d8d-d28485889379",
   "metadata": {},
   "outputs": [],
   "source": [
    "splits = {}\n",
    "splits[\"test\"] = [f\"{fn}.png\" for fn in names]\n",
    "\n",
    "with open('../data/Train_Test_Val_CARPK.json', 'w') as fp:\n",
    "    json.dump(splits, fp)"
   ]
  },
  {
   "cell_type": "code",
   "execution_count": 38,
   "id": "862051d0-80c5-41eb-9f5e-b15e92671a69",
   "metadata": {},
   "outputs": [
    {
     "data": {
      "text/plain": [
       "459"
      ]
     },
     "execution_count": 38,
     "metadata": {},
     "output_type": "execute_result"
    }
   ],
   "source": [
    "len(splits[\"test\"])"
   ]
  }
 ],
 "metadata": {
  "kernelspec": {
   "display_name": "Python [conda env:fscount] *",
   "language": "python",
   "name": "conda-env-fscount-py"
  },
  "language_info": {
   "codemirror_mode": {
    "name": "ipython",
    "version": 3
   },
   "file_extension": ".py",
   "mimetype": "text/x-python",
   "name": "python",
   "nbconvert_exporter": "python",
   "pygments_lexer": "ipython3",
   "version": "3.7.11"
  }
 },
 "nbformat": 4,
 "nbformat_minor": 5
}

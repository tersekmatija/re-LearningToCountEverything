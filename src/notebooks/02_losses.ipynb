{
 "cells": [
  {
   "cell_type": "code",
   "execution_count": 1,
   "id": "927392d1",
   "metadata": {},
   "outputs": [],
   "source": [
    "import sys \n",
    "sys.path.append(\"../\")"
   ]
  },
  {
   "cell_type": "code",
   "execution_count": 50,
   "id": "ff4df2c3",
   "metadata": {},
   "outputs": [],
   "source": [
    "from utils import MincountLoss, PerturbationLoss, matlab_style_gauss2D\n",
    "import numpy as np\n",
    "import torch"
   ]
  },
  {
   "cell_type": "markdown",
   "id": "f6cac8c2",
   "metadata": {},
   "source": [
    "# 1. Min-count loss"
   ]
  },
  {
   "cell_type": "code",
   "execution_count": 38,
   "id": "da3481ef",
   "metadata": {},
   "outputs": [],
   "source": [
    "photo = torch.ones(size = (1, 1, 10, 10)) * 0.1"
   ]
  },
  {
   "cell_type": "code",
   "execution_count": 39,
   "id": "f34089ed",
   "metadata": {},
   "outputs": [
    {
     "data": {
      "text/plain": [
       "tensor([[[[0.1000, 0.1000, 0.1000, 0.1000, 0.1000, 0.1000, 0.1000, 0.1000,\n",
       "           0.1000, 0.1000],\n",
       "          [0.1000, 0.1000, 0.1000, 0.1000, 0.1000, 0.1000, 0.1000, 0.1000,\n",
       "           0.1000, 0.1000],\n",
       "          [0.1000, 0.1000, 0.1000, 0.1000, 0.1000, 0.1000, 0.1000, 0.1000,\n",
       "           0.1000, 0.1000],\n",
       "          [0.1000, 0.1000, 0.1000, 0.1000, 0.1000, 0.1000, 0.1000, 0.1000,\n",
       "           0.1000, 0.1000],\n",
       "          [0.1000, 0.1000, 0.1000, 0.1000, 0.1000, 0.1000, 0.1000, 0.1000,\n",
       "           0.1000, 0.1000],\n",
       "          [0.1000, 0.1000, 0.1000, 0.1000, 0.1000, 0.1000, 0.1000, 0.1000,\n",
       "           0.1000, 0.1000],\n",
       "          [0.1000, 0.1000, 0.1000, 0.1000, 0.1000, 0.1000, 0.1000, 0.1000,\n",
       "           0.1000, 0.1000],\n",
       "          [0.1000, 0.1000, 0.1000, 0.1000, 0.1000, 0.1000, 0.1000, 0.1000,\n",
       "           0.1000, 0.1000],\n",
       "          [0.1000, 0.1000, 0.1000, 0.1000, 0.1000, 0.1000, 0.1000, 0.1000,\n",
       "           0.1000, 0.1000],\n",
       "          [0.1000, 0.1000, 0.1000, 0.1000, 0.1000, 0.1000, 0.1000, 0.1000,\n",
       "           0.1000, 0.1000]]]])"
      ]
     },
     "execution_count": 39,
     "metadata": {},
     "output_type": "execute_result"
    }
   ],
   "source": [
    "photo"
   ]
  },
  {
   "cell_type": "code",
   "execution_count": 40,
   "id": "3538573d",
   "metadata": {},
   "outputs": [
    {
     "data": {
      "text/plain": [
       "torch.Size([1, 1, 5])"
      ]
     },
     "execution_count": 40,
     "metadata": {},
     "output_type": "execute_result"
    }
   ],
   "source": [
    "boxes = torch.tensor([[[  0.,  1.,  1., 3.,  3.]]])\n",
    "#boxes = torch.unsqueeze(boxes, 0)\n",
    "boxes.size()"
   ]
  },
  {
   "cell_type": "code",
   "execution_count": 41,
   "id": "a9ec925d",
   "metadata": {},
   "outputs": [],
   "source": [
    "loss = MincountLoss(photo, boxes, False)"
   ]
  },
  {
   "cell_type": "code",
   "execution_count": 42,
   "id": "d3848591",
   "metadata": {},
   "outputs": [
    {
     "data": {
      "text/plain": [
       "tensor(0.3600)"
      ]
     },
     "execution_count": 42,
     "metadata": {},
     "output_type": "execute_result"
    }
   ],
   "source": [
    "loss"
   ]
  },
  {
   "cell_type": "code",
   "execution_count": 43,
   "id": "e7b27ff3",
   "metadata": {},
   "outputs": [
    {
     "data": {
      "text/plain": [
       "0.36"
      ]
     },
     "execution_count": 43,
     "metadata": {},
     "output_type": "execute_result"
    }
   ],
   "source": [
    "0.6**2"
   ]
  },
  {
   "cell_type": "markdown",
   "id": "e23dfeeb",
   "metadata": {},
   "source": [
    "#### Observation: Looks OK. But why do they use MSE instead of 1-norm?"
   ]
  },
  {
   "cell_type": "markdown",
   "id": "58b6d2c3",
   "metadata": {},
   "source": [
    "# 2. Perturbation loss"
   ]
  },
  {
   "cell_type": "code",
   "execution_count": 52,
   "id": "45322f16",
   "metadata": {},
   "outputs": [],
   "source": [
    "photo = torch.ones(size = (1, 1, 10, 10)) * 0.1"
   ]
  },
  {
   "cell_type": "code",
   "execution_count": 53,
   "id": "23465da2",
   "metadata": {},
   "outputs": [
    {
     "data": {
      "text/plain": [
       "torch.Size([1, 1, 5])"
      ]
     },
     "execution_count": 53,
     "metadata": {},
     "output_type": "execute_result"
    }
   ],
   "source": [
    "boxes = torch.tensor([[[  0.,  1.,  1., 3.,  3.]]])\n",
    "boxes.size()"
   ]
  },
  {
   "cell_type": "code",
   "execution_count": 54,
   "id": "bade1548",
   "metadata": {},
   "outputs": [],
   "source": [
    "loss = PerturbationLoss(photo, boxes, use_gpu = False)"
   ]
  },
  {
   "cell_type": "code",
   "execution_count": 55,
   "id": "389fe2d0",
   "metadata": {},
   "outputs": [
    {
     "data": {
      "text/plain": [
       "tensor(0.0225)"
      ]
     },
     "execution_count": 55,
     "metadata": {},
     "output_type": "execute_result"
    }
   ],
   "source": [
    "loss"
   ]
  },
  {
   "cell_type": "code",
   "execution_count": 56,
   "id": "0d043392",
   "metadata": {},
   "outputs": [
    {
     "data": {
      "text/plain": [
       "array([[0.25, 0.25],\n",
       "       [0.25, 0.25]])"
      ]
     },
     "execution_count": 56,
     "metadata": {},
     "output_type": "execute_result"
    }
   ],
   "source": [
    "matlab_style_gauss2D(shape = (2,2), sigma = 8)"
   ]
  },
  {
   "cell_type": "markdown",
   "id": "b9766c57",
   "metadata": {},
   "source": [
    "#### Observation: Looks OK. We could try to use different sigma."
   ]
  },
  {
   "cell_type": "code",
   "execution_count": null,
   "id": "52bc7b35",
   "metadata": {},
   "outputs": [],
   "source": []
  }
 ],
 "metadata": {
  "kernelspec": {
   "display_name": "Python [conda env:fscount] *",
   "language": "python",
   "name": "conda-env-fscount-py"
  },
  "language_info": {
   "codemirror_mode": {
    "name": "ipython",
    "version": 3
   },
   "file_extension": ".py",
   "mimetype": "text/x-python",
   "name": "python",
   "nbconvert_exporter": "python",
   "pygments_lexer": "ipython3",
   "version": "3.7.11"
  }
 },
 "nbformat": 4,
 "nbformat_minor": 5
}

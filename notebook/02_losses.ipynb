{
 "cells": [
  {
   "cell_type": "code",
   "execution_count": 12,
   "id": "927392d1",
   "metadata": {},
   "outputs": [],
   "source": [
    "import sys \n",
    "sys.path.append(\".\")"
   ]
  },
  {
   "cell_type": "code",
   "execution_count": 18,
   "id": "ff4df2c3",
   "metadata": {},
   "outputs": [
    {
     "ename": "SyntaxError",
     "evalue": "invalid syntax (Temp/ipykernel_14676/2122791630.py, line 7)",
     "output_type": "error",
     "traceback": [
      "\u001b[1;36m  File \u001b[1;32m\"C:\\Users\\masik\\AppData\\Local\\Temp/ipykernel_14676/2122791630.py\"\u001b[1;36m, line \u001b[1;32m7\u001b[0m\n\u001b[1;33m    import .src.utils\u001b[0m\n\u001b[1;37m           ^\u001b[0m\n\u001b[1;31mSyntaxError\u001b[0m\u001b[1;31m:\u001b[0m invalid syntax\n"
     ]
    }
   ],
   "source": [
    "import os\n",
    "\n",
    "# Get the current working directory\n",
    "cwd = os.getcwd()\n",
    "cwd\n",
    "\n",
    "import .src.utils"
   ]
  },
  {
   "cell_type": "code",
   "execution_count": null,
   "id": "da3481ef",
   "metadata": {},
   "outputs": [],
   "source": [
    "photo = np.ones(shape = (1, 1, 1, 10)) * 0.1"
   ]
  },
  {
   "cell_type": "code",
   "execution_count": null,
   "id": "f34089ed",
   "metadata": {},
   "outputs": [],
   "source": []
  }
 ],
 "metadata": {
  "kernelspec": {
   "display_name": "Python [conda env:fscount] *",
   "language": "python",
   "name": "conda-env-fscount-py"
  },
  "language_info": {
   "codemirror_mode": {
    "name": "ipython",
    "version": 3
   },
   "file_extension": ".py",
   "mimetype": "text/x-python",
   "name": "python",
   "nbconvert_exporter": "python",
   "pygments_lexer": "ipython3",
   "version": "3.7.11"
  }
 },
 "nbformat": 4,
 "nbformat_minor": 5
}
